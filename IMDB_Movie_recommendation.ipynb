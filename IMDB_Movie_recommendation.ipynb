{
  "nbformat": 4,
  "nbformat_minor": 0,
  "metadata": {
    "colab": {
      "provenance": [],
      "authorship_tag": "ABX9TyPuhHByEgbSWYC1ODek0BSC",
      "include_colab_link": true
    },
    "kernelspec": {
      "name": "python3",
      "display_name": "Python 3"
    },
    "language_info": {
      "name": "python"
    }
  },
  "cells": [
    {
      "cell_type": "markdown",
      "metadata": {
        "id": "view-in-github",
        "colab_type": "text"
      },
      "source": [
        "<a href=\"https://colab.research.google.com/github/bnaveensagar1997/Guvi_mini_projects/blob/main/IMDB_Movie_recommendation.ipynb\" target=\"_parent\"><img src=\"https://colab.research.google.com/assets/colab-badge.svg\" alt=\"Open In Colab\"/></a>"
      ]
    },
    {
      "cell_type": "code",
      "source": [
        "!pip install selenium\n",
        "!pip install webdriver-manager"
      ],
      "metadata": {
        "colab": {
          "base_uri": "https://localhost:8080/"
        },
        "id": "COb5pYdIQn-b",
        "outputId": "bb54104f-2010-4ab8-fbb1-a73268f2d52b"
      },
      "execution_count": 1,
      "outputs": [
        {
          "output_type": "stream",
          "name": "stdout",
          "text": [
            "Collecting selenium\n",
            "  Downloading selenium-4.32.0-py3-none-any.whl.metadata (7.5 kB)\n",
            "Requirement already satisfied: urllib3<3,>=1.26 in /usr/local/lib/python3.11/dist-packages (from urllib3[socks]<3,>=1.26->selenium) (2.4.0)\n",
            "Collecting trio~=0.17 (from selenium)\n",
            "  Downloading trio-0.30.0-py3-none-any.whl.metadata (8.5 kB)\n",
            "Collecting trio-websocket~=0.9 (from selenium)\n",
            "  Downloading trio_websocket-0.12.2-py3-none-any.whl.metadata (5.1 kB)\n",
            "Requirement already satisfied: certifi>=2021.10.8 in /usr/local/lib/python3.11/dist-packages (from selenium) (2025.4.26)\n",
            "Requirement already satisfied: typing_extensions~=4.9 in /usr/local/lib/python3.11/dist-packages (from selenium) (4.13.2)\n",
            "Requirement already satisfied: websocket-client~=1.8 in /usr/local/lib/python3.11/dist-packages (from selenium) (1.8.0)\n",
            "Requirement already satisfied: attrs>=23.2.0 in /usr/local/lib/python3.11/dist-packages (from trio~=0.17->selenium) (25.3.0)\n",
            "Requirement already satisfied: sortedcontainers in /usr/local/lib/python3.11/dist-packages (from trio~=0.17->selenium) (2.4.0)\n",
            "Requirement already satisfied: idna in /usr/local/lib/python3.11/dist-packages (from trio~=0.17->selenium) (3.10)\n",
            "Collecting outcome (from trio~=0.17->selenium)\n",
            "  Downloading outcome-1.3.0.post0-py2.py3-none-any.whl.metadata (2.6 kB)\n",
            "Requirement already satisfied: sniffio>=1.3.0 in /usr/local/lib/python3.11/dist-packages (from trio~=0.17->selenium) (1.3.1)\n",
            "Collecting wsproto>=0.14 (from trio-websocket~=0.9->selenium)\n",
            "  Downloading wsproto-1.2.0-py3-none-any.whl.metadata (5.6 kB)\n",
            "Requirement already satisfied: pysocks!=1.5.7,<2.0,>=1.5.6 in /usr/local/lib/python3.11/dist-packages (from urllib3[socks]<3,>=1.26->selenium) (1.7.1)\n",
            "Requirement already satisfied: h11<1,>=0.9.0 in /usr/local/lib/python3.11/dist-packages (from wsproto>=0.14->trio-websocket~=0.9->selenium) (0.16.0)\n",
            "Downloading selenium-4.32.0-py3-none-any.whl (9.4 MB)\n",
            "\u001b[2K   \u001b[90m━━━━━━━━━━━━━━━━━━━━━━━━━━━━━━━━━━━━━━━━\u001b[0m \u001b[32m9.4/9.4 MB\u001b[0m \u001b[31m37.7 MB/s\u001b[0m eta \u001b[36m0:00:00\u001b[0m\n",
            "\u001b[?25hDownloading trio-0.30.0-py3-none-any.whl (499 kB)\n",
            "\u001b[2K   \u001b[90m━━━━━━━━━━━━━━━━━━━━━━━━━━━━━━━━━━━━━━━━\u001b[0m \u001b[32m499.2/499.2 kB\u001b[0m \u001b[31m19.3 MB/s\u001b[0m eta \u001b[36m0:00:00\u001b[0m\n",
            "\u001b[?25hDownloading trio_websocket-0.12.2-py3-none-any.whl (21 kB)\n",
            "Downloading outcome-1.3.0.post0-py2.py3-none-any.whl (10 kB)\n",
            "Downloading wsproto-1.2.0-py3-none-any.whl (24 kB)\n",
            "Installing collected packages: wsproto, outcome, trio, trio-websocket, selenium\n",
            "Successfully installed outcome-1.3.0.post0 selenium-4.32.0 trio-0.30.0 trio-websocket-0.12.2 wsproto-1.2.0\n",
            "Collecting webdriver-manager\n",
            "  Downloading webdriver_manager-4.0.2-py2.py3-none-any.whl.metadata (12 kB)\n",
            "Requirement already satisfied: requests in /usr/local/lib/python3.11/dist-packages (from webdriver-manager) (2.32.3)\n",
            "Collecting python-dotenv (from webdriver-manager)\n",
            "  Downloading python_dotenv-1.1.0-py3-none-any.whl.metadata (24 kB)\n",
            "Requirement already satisfied: packaging in /usr/local/lib/python3.11/dist-packages (from webdriver-manager) (24.2)\n",
            "Requirement already satisfied: charset-normalizer<4,>=2 in /usr/local/lib/python3.11/dist-packages (from requests->webdriver-manager) (3.4.1)\n",
            "Requirement already satisfied: idna<4,>=2.5 in /usr/local/lib/python3.11/dist-packages (from requests->webdriver-manager) (3.10)\n",
            "Requirement already satisfied: urllib3<3,>=1.21.1 in /usr/local/lib/python3.11/dist-packages (from requests->webdriver-manager) (2.4.0)\n",
            "Requirement already satisfied: certifi>=2017.4.17 in /usr/local/lib/python3.11/dist-packages (from requests->webdriver-manager) (2025.4.26)\n",
            "Downloading webdriver_manager-4.0.2-py2.py3-none-any.whl (27 kB)\n",
            "Downloading python_dotenv-1.1.0-py3-none-any.whl (20 kB)\n",
            "Installing collected packages: python-dotenv, webdriver-manager\n",
            "Successfully installed python-dotenv-1.1.0 webdriver-manager-4.0.2\n"
          ]
        }
      ]
    },
    {
      "cell_type": "code",
      "execution_count": 11,
      "metadata": {
        "id": "geiQTA8PP81X"
      },
      "outputs": [],
      "source": [
        "import time\n",
        "import pandas as pd\n",
        "from selenium import webdriver\n",
        "from selenium.webdriver.chrome.service import Service\n",
        "from selenium.webdriver.chrome.options import Options\n",
        "from selenium.webdriver.common.by import By\n",
        "from selenium.webdriver.support.ui import WebDriverWait\n",
        "from selenium.webdriver.support import expected_conditions as EC\n",
        "from selenium.common.exceptions import TimeoutException, NoSuchElementException\n",
        "import re"
      ]
    },
    {
      "cell_type": "code",
      "source": [
        "def setup_driver():\n",
        "    \"\"\"Set up and return a Chrome webdriver with appropriate options.\"\"\"\n",
        "    chrome_options = Options()\n",
        "    chrome_options.add_argument(\"--headless\")  # Run in headless mode\n",
        "    chrome_options.add_argument(\"--no-sandbox\")\n",
        "    chrome_options.add_argument(\"--disable-dev-shm-usage\")\n",
        "\n",
        "    # Initialize the Chrome WebDriver\n",
        "    driver = webdriver.Chrome(options=chrome_options)\n",
        "    return driver\n",
        "\n",
        "\n",
        "def scrape_imdb_2024_movies(max_movies=100):\n",
        "    \"\"\"\n",
        "    Scrape IMDB for 2024 movies including name and storyline.\n",
        "\n",
        "    Args:\n",
        "        max_movies: Maximum number of movies to scrape\n",
        "\n",
        "    Returns:\n",
        "        DataFrame with movie details\n",
        "    \"\"\"\n",
        "    print(\"Starting IMDB scraper for 2024 movies...\")  # Removed extra space before print\n",
        "    driver = setup_driver()\n",
        "\n",
        "    # Navigate to IMDB 2024 movie list\n",
        "    url = \"https://www.imdb.com/search/title/?year=2024&title_type=feature&sort=moviemeter,asc\"\n",
        "    driver.get(url)\n",
        "\n",
        "    # Wait for the page to load, increasing timeout and adding error handling\n",
        "    try:\n",
        "        # Increased timeout to 30 seconds and added a more generic locator\n",
        "        WebDriverWait(driver, 30).until(\n",
        "            EC.presence_of_element_located((By.CSS_SELECTOR, \".lister-list\"))  # More generic locator\n",
        "        )\n",
        "    except TimeoutException:\n",
        "        print(\"Timeout while waiting for page to load. Check your internet connection or the website structure.\")\n",
        "        driver.quit()  # Close the driver to avoid resource leaks\n",
        "        return pd.DataFrame()  # Return an empty DataFrame in case of failure\n",
        "\n",
        "    movies_data = []\n",
        "    movie_links = []\n",
        "    # First, gather all movie links from the search page\n",
        "    movie_elements = driver.find_elements(By.CLASS_NAME, \"lister-item-content\")\n",
        "    for element in movie_elements[:max_movies]:\n",
        "        try:\n",
        "            # Get the movie title and link\n",
        "            title_element = element.find_element(By.TAG_NAME, \"a\")\n",
        "            title = title_element.text\n",
        "            link = title_element.get_attribute(\"href\")\n",
        "            movie_links.append((title, link))\n",
        "\n",
        "        except NoSuchElementException:\n",
        "            continue\n",
        "\n",
        "    # Now visit each movie page to get the storyline\n",
        "    for title, link in movie_links:\n",
        "        try:\n",
        "            driver.get(link)\n",
        "            # Print the current URL for debugging purposes\n",
        "            print(f\"Scraping {title} from: {link}\")  # Debugging line\n",
        "\n",
        "            # Wait for the storyline section to load, adjust the selector if needed\n",
        "            try:\n",
        "                # Explicit wait for the storyline section or the plot summary section\n",
        "                WebDriverWait(driver, 10).until(\n",
        "                    EC.presence_of_element_located((By.XPATH, \"//h2[contains(text(), 'Storyline')]/following-sibling::div\")) or\n",
        "                    EC.presence_of_element_located((By.ID, \"plot-summaries-content\"))\n",
        "                )\n",
        "\n",
        "                # Attempt to find the storyline in the main page\n",
        "                storyline_element = driver.find_element(By.XPATH, \"//h2[contains(text(), 'Storyline')]/following-sibling::div\")\n",
        "                storyline = storyline_element.text\n",
        "\n",
        "            except (TimeoutException, NoSuchElementException):\n",
        "                # If not found, try to find it in the plot summary section\n",
        "                try:\n",
        "                    storyline_element = driver.find_element(By.ID, \"plot-summaries-content\")\n",
        "                    storyline = storyline_element.find_element(By.CSS_SELECTOR, \".ipc-html-content-inner-div\").text  # Adjust selector if needed\n",
        "                except (TimeoutException, NoSuchElementException):\n",
        "                    storyline = \"No storyline available\"\n",
        "\n",
        "            # Get genre information (Adjust the selector if needed)\n",
        "            genres = []\n",
        "            try:\n",
        "                genre_elements = driver.find_elements(By.CSS_SELECTOR, 'a[href*=\"genres=\"]')\n",
        "                genres = [genre.text for genre in genre_elements]\n",
        "            except NoSuchElementException:\n",
        "                pass\n",
        "\n",
        "            # Get release year to confirm it's a 2024 movie (Adjust the selector if needed)\n",
        "            release_year = \"\"\n",
        "            try:\n",
        "                year_element = driver.find_element(By.CSS_SELECTOR, 'a[href*=\"releaseinfo\"]')\n",
        "                release_year = year_element.text\n",
        "            except NoSuchElementException:\n",
        "                pass\n",
        "\n",
        "            # Clean the storyline text\n",
        "            storyline = re.sub(r'\\s+', ' ', storyline).strip()\n",
        "\n",
        "            # Add to our dataset\n",
        "            movies_data.append({\n",
        "                'title': title,\n",
        "                'storyline': storyline,\n",
        "                'genres': ', '.join(genres),\n",
        "                'release_year': release_year,\n",
        "                'imdb_link': link\n",
        "            })\n",
        "\n",
        "            print(f\"Scraped: {title}\")\n",
        "\n",
        "            # Be nice to IMDB's servers\n",
        "            time.sleep(1)\n",
        "\n",
        "        except Exception as e:\n",
        "            print(f\"Error scraping {title}: {str(e)}\")\n",
        "\n",
        "    driver.quit()\n",
        "\n",
        "    # Convert to DataFrame\n",
        "    df = pd.DataFrame(movies_data)\n",
        "\n",
        "    # Save raw data to CSV\n",
        "    df.to_csv('imdb_movies_2024_raw.csv', index=False)\n",
        "    print(f\"Scraping completed. Found {len(df)} movies.\")\n",
        "\n",
        "    return df\n",
        "\n",
        "if __name__ == \"__main__\":\n",
        "    # Scrape data and assign it to the 'movies_df' variable\n",
        "    movies_df = scrape_imdb_2024_movies(max_movies=50)  # Adjust as needed\n",
        "\n",
        "    # Check if the DataFrame is empty before trying to access columns\n",
        "    if movies_df.empty:\n",
        "        print(\"The DataFrame is empty. No data was scraped.\")\n",
        "    else:\n",
        "        # Print first few entries\n",
        "        print(\"\\nSample of scraped data:\")\n",
        "        # Accessing the dataframe created within the function\n",
        "        print(movies_df[['title', 'storyline']].head())\n",
        "\n",
        "\n",
        "# Now you can work with 'movies_df' here:\n",
        "movies_df.head()"
      ],
      "metadata": {
        "id": "otESe5qeSDy8",
        "colab": {
          "base_uri": "https://localhost:8080/",
          "height": 195
        },
        "outputId": "034ee4ce-1f40-40c9-f787-a4b20fc5a813"
      },
      "execution_count": 16,
      "outputs": [
        {
          "output_type": "stream",
          "name": "stdout",
          "text": [
            "Starting IMDB scraper for 2024 movies...\n",
            "Timeout while waiting for page to load. Check your internet connection or the website structure.\n",
            "The DataFrame is empty. No data was scraped.\n"
          ]
        },
        {
          "output_type": "execute_result",
          "data": {
            "text/plain": [
              "Empty DataFrame\n",
              "Columns: []\n",
              "Index: []"
            ],
            "text/html": [
              "\n",
              "  <div id=\"df-1248da13-5d25-4456-9294-2362027e1aa0\" class=\"colab-df-container\">\n",
              "    <div>\n",
              "<style scoped>\n",
              "    .dataframe tbody tr th:only-of-type {\n",
              "        vertical-align: middle;\n",
              "    }\n",
              "\n",
              "    .dataframe tbody tr th {\n",
              "        vertical-align: top;\n",
              "    }\n",
              "\n",
              "    .dataframe thead th {\n",
              "        text-align: right;\n",
              "    }\n",
              "</style>\n",
              "<table border=\"1\" class=\"dataframe\">\n",
              "  <thead>\n",
              "    <tr style=\"text-align: right;\">\n",
              "      <th></th>\n",
              "    </tr>\n",
              "  </thead>\n",
              "  <tbody>\n",
              "  </tbody>\n",
              "</table>\n",
              "</div>\n",
              "    <div class=\"colab-df-buttons\">\n",
              "\n",
              "  <div class=\"colab-df-container\">\n",
              "    <button class=\"colab-df-convert\" onclick=\"convertToInteractive('df-1248da13-5d25-4456-9294-2362027e1aa0')\"\n",
              "            title=\"Convert this dataframe to an interactive table.\"\n",
              "            style=\"display:none;\">\n",
              "\n",
              "  <svg xmlns=\"http://www.w3.org/2000/svg\" height=\"24px\" viewBox=\"0 -960 960 960\">\n",
              "    <path d=\"M120-120v-720h720v720H120Zm60-500h600v-160H180v160Zm220 220h160v-160H400v160Zm0 220h160v-160H400v160ZM180-400h160v-160H180v160Zm440 0h160v-160H620v160ZM180-180h160v-160H180v160Zm440 0h160v-160H620v160Z\"/>\n",
              "  </svg>\n",
              "    </button>\n",
              "\n",
              "  <style>\n",
              "    .colab-df-container {\n",
              "      display:flex;\n",
              "      gap: 12px;\n",
              "    }\n",
              "\n",
              "    .colab-df-convert {\n",
              "      background-color: #E8F0FE;\n",
              "      border: none;\n",
              "      border-radius: 50%;\n",
              "      cursor: pointer;\n",
              "      display: none;\n",
              "      fill: #1967D2;\n",
              "      height: 32px;\n",
              "      padding: 0 0 0 0;\n",
              "      width: 32px;\n",
              "    }\n",
              "\n",
              "    .colab-df-convert:hover {\n",
              "      background-color: #E2EBFA;\n",
              "      box-shadow: 0px 1px 2px rgba(60, 64, 67, 0.3), 0px 1px 3px 1px rgba(60, 64, 67, 0.15);\n",
              "      fill: #174EA6;\n",
              "    }\n",
              "\n",
              "    .colab-df-buttons div {\n",
              "      margin-bottom: 4px;\n",
              "    }\n",
              "\n",
              "    [theme=dark] .colab-df-convert {\n",
              "      background-color: #3B4455;\n",
              "      fill: #D2E3FC;\n",
              "    }\n",
              "\n",
              "    [theme=dark] .colab-df-convert:hover {\n",
              "      background-color: #434B5C;\n",
              "      box-shadow: 0px 1px 3px 1px rgba(0, 0, 0, 0.15);\n",
              "      filter: drop-shadow(0px 1px 2px rgba(0, 0, 0, 0.3));\n",
              "      fill: #FFFFFF;\n",
              "    }\n",
              "  </style>\n",
              "\n",
              "    <script>\n",
              "      const buttonEl =\n",
              "        document.querySelector('#df-1248da13-5d25-4456-9294-2362027e1aa0 button.colab-df-convert');\n",
              "      buttonEl.style.display =\n",
              "        google.colab.kernel.accessAllowed ? 'block' : 'none';\n",
              "\n",
              "      async function convertToInteractive(key) {\n",
              "        const element = document.querySelector('#df-1248da13-5d25-4456-9294-2362027e1aa0');\n",
              "        const dataTable =\n",
              "          await google.colab.kernel.invokeFunction('convertToInteractive',\n",
              "                                                    [key], {});\n",
              "        if (!dataTable) return;\n",
              "\n",
              "        const docLinkHtml = 'Like what you see? Visit the ' +\n",
              "          '<a target=\"_blank\" href=https://colab.research.google.com/notebooks/data_table.ipynb>data table notebook</a>'\n",
              "          + ' to learn more about interactive tables.';\n",
              "        element.innerHTML = '';\n",
              "        dataTable['output_type'] = 'display_data';\n",
              "        await google.colab.output.renderOutput(dataTable, element);\n",
              "        const docLink = document.createElement('div');\n",
              "        docLink.innerHTML = docLinkHtml;\n",
              "        element.appendChild(docLink);\n",
              "      }\n",
              "    </script>\n",
              "  </div>\n",
              "\n",
              "\n",
              "    </div>\n",
              "  </div>\n"
            ],
            "application/vnd.google.colaboratory.intrinsic+json": {
              "type": "dataframe",
              "variable_name": "movies_df",
              "summary": "{\n  \"name\": \"movies_df\",\n  \"rows\": 0,\n  \"fields\": []\n}"
            }
          },
          "metadata": {},
          "execution_count": 16
        }
      ]
    },
    {
      "cell_type": "code",
      "source": [
        "df = movies_df.head()\n",
        "print(df.head())"
      ],
      "metadata": {
        "colab": {
          "base_uri": "https://localhost:8080/"
        },
        "id": "3RTke1ZGSDp0",
        "outputId": "716413b8-c814-4831-f185-0c8a7b1b11c3"
      },
      "execution_count": 18,
      "outputs": [
        {
          "output_type": "stream",
          "name": "stdout",
          "text": [
            "Empty DataFrame\n",
            "Columns: []\n",
            "Index: []\n"
          ]
        }
      ]
    },
    {
      "cell_type": "code",
      "source": [],
      "metadata": {
        "id": "XT32u2jBSDi0"
      },
      "execution_count": null,
      "outputs": []
    },
    {
      "cell_type": "code",
      "source": [],
      "metadata": {
        "id": "Mi440PV8tihn"
      },
      "execution_count": null,
      "outputs": []
    },
    {
      "cell_type": "code",
      "source": [
        "from selenium import webdriver"
      ],
      "metadata": {
        "id": "HQqkEqi_tXql"
      },
      "execution_count": null,
      "outputs": []
    },
    {
      "cell_type": "code",
      "source": [],
      "metadata": {
        "id": "Q76rsqyhtdza"
      },
      "execution_count": null,
      "outputs": []
    }
  ]
}